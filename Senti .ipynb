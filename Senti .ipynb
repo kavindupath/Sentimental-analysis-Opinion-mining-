{
 "cells": [
  {
   "cell_type": "code",
   "execution_count": 11,
   "metadata": {},
   "outputs": [
    {
     "name": "stdout",
     "output_type": "stream",
     "text": [
      "The film is very bad-------------------- {'neg': 0.487, 'neu': 0.513, 'pos': 0.0, 'compound': -0.5849}\n",
      "The film is bad------------------------- {'neg': 0.538, 'neu': 0.462, 'pos': 0.0, 'compound': -0.5423}\n",
      "Bumblebee is an incredibly nice breath of fresh air compared to the previous Transformers movies. If you have been scarred or turned off by the Michael Bay version of the franchise, then this movie is certainly a welcomed change of pace. {'neg': 0.0, 'neu': 0.779, 'pos': 0.221, 'compound': 0.8479}\n",
      "Watching videos. They're good. But this is Chatter Bong ... do not look like others' {'neg': 0.151, 'neu': 0.738, 'pos': 0.111, 'compound': -0.1815}\n"
     ]
    }
   ],
   "source": [
    "from vaderSentiment.vaderSentiment import SentimentIntensityAnalyzer\n",
    "analyser = SentimentIntensityAnalyzer()\n",
    "\n",
    "from googletrans import Translator\n",
    "translator = Translator()\n",
    "\n",
    "\n",
    "def sentiment_analyzer_scores(sentence):\n",
    "    score = analyser.polarity_scores(sentence)\n",
    "    print(\"{:-<40} {}\".format(sentence, str(score)))\n",
    "    \n",
    "sentencetext1=translator.translate((\"මෙම චිත්රපටය ඉතාමත් නරකයි\")).text\n",
    "sentencetext2=translator.translate((\"මෙම චිත්රපටය නරකයි\")).text\n",
    "sentencetext3=(\"Bumblebee is an incredibly nice breath of fresh air compared to the previous Transformers movies. If you have been scarred or turned off by the Michael Bay version of the franchise, then this movie is certainly a welcomed change of pace.\")\n",
    "sentencetext4=translator.translate((\"වීඩියෝ බලනවා. ඒවා හොඳයි..ඒත් මේකනම් චාටර් බං...අනුන්ගේ ⁣රෙද්දවල් ගැන ⁣ගෑනු වගේ හොයන්න එපා බං\")).text\n",
    "\n",
    "sentiment_analyzer_scores(sentencetext1)\n",
    "sentiment_analyzer_scores(sentencetext2)\n",
    "sentiment_analyzer_scores(sentencetext3)\n",
    "sentiment_analyzer_scores(sentencetext4)\n"
   ]
  },
  {
   "cell_type": "code",
   "execution_count": null,
   "metadata": {},
   "outputs": [],
   "source": []
  },
  {
   "cell_type": "code",
   "execution_count": null,
   "metadata": {},
   "outputs": [],
   "source": []
  }
 ],
 "metadata": {
  "kernelspec": {
   "display_name": "Python 3",
   "language": "python",
   "name": "python3"
  },
  "language_info": {
   "codemirror_mode": {
    "name": "ipython",
    "version": 3
   },
   "file_extension": ".py",
   "mimetype": "text/x-python",
   "name": "python",
   "nbconvert_exporter": "python",
   "pygments_lexer": "ipython3",
   "version": "3.6.7"
  }
 },
 "nbformat": 4,
 "nbformat_minor": 2
}
